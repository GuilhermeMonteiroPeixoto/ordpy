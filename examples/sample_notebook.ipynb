{
 "cells": [
  {
   "cell_type": "markdown",
   "metadata": {
    "ExecuteTime": {
     "end_time": "2020-08-19T13:38:39.671790Z",
     "start_time": "2020-08-19T13:38:39.666359Z"
    }
   },
   "source": [
    "<h1>Table of Contents<span class=\"tocSkip\"></span></h1>"
   ]
  },
  {
   "cell_type": "markdown",
   "metadata": {},
   "source": [
    "* [`symbolic_distribution`](#chapter0)\n",
    "    - [Fig. 1](#section_fig1)\n",
    "* [`missing_states`](#chapter1)\n",
    "    - [Fig. 2](#section_fig2)\n",
    "* [`permutation entropy`](#chapter2)\n",
    "    - [Fig. 3](#section_fig3)\n",
    "* [`complexity entropy`](#chapter3)\n",
    "    - [Fig. 4](#section_fig4)\n",
    "* [`tsallis_complexity entropy and renyi_complexity_entropy`](#chapter4)\n",
    "    - [Fig. 5](#section_fig5)\n",
    "    - [Fig. 6](#section_fig6)\n",
    "* [`ordinal_network`](#chapter7)\n",
    "    - [Fig. 7](#section_fig7)\n",
    "* [`global_node_entropy`](#chapter8)\n",
    "    - [Fig. 8](#section_fig8)\n",
    "* [`missing_links`](#chapter9)\n",
    "    - [Fig. 9](#section_fig9)"
   ]
  },
  {
   "cell_type": "code",
   "execution_count": 14,
   "metadata": {
    "ExecuteTime": {
     "end_time": "2021-01-12T21:42:27.411911Z",
     "start_time": "2021-01-12T21:42:26.759223Z"
    },
    "init_cell": true
   },
   "outputs": [
    {
     "data": {
      "text/html": [
       "<style>.container {width:99.5% !important;} </style>"
      ],
      "text/plain": [
       "<IPython.core.display.HTML object>"
      ]
     },
     "metadata": {},
     "output_type": "display_data"
    }
   ],
   "source": [
    "import numpy as np\n",
    "\n",
    "import matplotlib as mpl\n",
    "import matplotlib.pyplot as plt\n",
    "import matplotlib.image as mpimg\n",
    "import seaborn as sns\n",
    "\n",
    "import string\n",
    "import glob\n",
    "import warnings\n",
    "\n",
    "#these modules are necessary to simulate colored noise and solve Rössler's system of equations. However, solutions used in the paper are saved in the 'data' folder.\n",
    "import scipy.integrate\n",
    "import scipy.signal\n",
    "import colorednoise\n",
    "\n",
    "#the igraph module is needed to draw directed ordinal networks. The networkx is used to drawing the undirected form of those networks.\n",
    "import igraph\n",
    "import networkx as nx\n",
    "\n",
    "#extend notebook\n",
    "from IPython.core.display import display, HTML\n",
    "display(HTML(\"<style>.container {width:99.5% !important;} </style>\"))\n",
    "\n",
    "%run ../ordpy.py"
   ]
  },
  {
   "cell_type": "code",
   "execution_count": 15,
   "metadata": {
    "ExecuteTime": {
     "end_time": "2021-01-12T21:42:27.419936Z",
     "start_time": "2021-01-12T21:42:27.413401Z"
    },
    "code_folding": [
     3,
     6
    ],
    "init_cell": true
   },
   "outputs": [],
   "source": [
    "#predefining figure style\n",
    "\n",
    "sns.set_style(\"white\")\n",
    "sns.set_style({\"xtick.direction\": \"out\",\n",
    "            \"ytick.direction\": \"out\"})\n",
    "\n",
    "rcparams = {'font.family': 'sans-serif',\n",
    "       'font.sans-serif': ['Helvetica'],\n",
    "       'axes.labelsize': 28,\n",
    "       'axes.titlesize': 28,\n",
    "       'legend.fontsize': 20,\n",
    "       'legend.handlelength': 1,\n",
    "       'ytick.right': 'off',\n",
    "       'xtick.top': 'off',\n",
    "       'ytick.left': 'on',\n",
    "       'xtick.bottom': 'on',\n",
    "       'xtick.labelsize': '25',\n",
    "       'ytick.labelsize': '25',\n",
    "       'axes.linewidth': 2.5,\n",
    "       'xtick.major.width': 1.8,\n",
    "       'xtick.minor.width': 1.8,\n",
    "       'xtick.major.size': 10, \n",
    "       'xtick.minor.size': 7,\n",
    "       'xtick.major.pad': 10,\n",
    "       'xtick.minor.pad': 10,\n",
    "       'ytick.major.width': 1.8,\n",
    "       'ytick.minor.width': 1.8,\n",
    "       'ytick.major.size': 10,\n",
    "       'ytick.minor.size': 7,\n",
    "       'ytick.major.pad': 10,\n",
    "       'ytick.minor.pad': 10,\n",
    "       'axes.labelpad': 15,\n",
    "       'axes.titlepad': 15,\n",
    "       'axes.spines.right': False,\n",
    "       'axes.spines.top': False,\n",
    "       'figure.figsize': (9.1, 7.0),\n",
    "       'lines.linewidth': 3\n",
    "      }\n",
    "mpl.rcParams.update(rcparams)"
   ]
  },
  {
   "cell_type": "markdown",
   "metadata": {},
   "source": [
    "<span style=\"font-family:times; font-weight:bold; font-size:1.8em;\">`symbolic_distribution`</span><a class=\"anchor\" id=\"chapter0\"></a>"
   ]
  },
  {
   "cell_type": "markdown",
   "metadata": {},
   "source": [
    "<span style=\"font-family:times; font-weight:bold; font-size:1.4em;\">Fig. 1</span><a class=\"anchor\" id=\"section_fig1\"></a>"
   ]
  },
  {
   "cell_type": "code",
   "execution_count": null,
   "metadata": {},
   "outputs": [],
   "source": [
    "symbolic_distribution()"
   ]
  },
  {
   "cell_type": "code",
   "execution_count": null,
   "metadata": {
    "ExecuteTime": {
     "end_time": "2021-01-12T14:38:03.489949Z",
     "start_time": "2021-01-12T14:38:01.596979Z"
    },
    "scrolled": false
   },
   "outputs": [],
   "source": [
    "f, ax = plt.subplots(nrows=2, ncols=1, figsize=(8.19, 12.6))\n",
    "\n",
    "#random walk (theory): horizontal dashed black lines.\n",
    "ax[0].hlines([0.25, 0.125, 0.125, 0.125, 0.125, 0.25], xmin=[i-.2 for i in range(6)], xmax=[i+.2 for i in range(6)], linestyle='--', linewidth=2, color='black', label='Theory')\n",
    "\n",
    "#empirical distribution from a simulated walk.\n",
    "rw = np.cumsum(np.random.normal(size=100000))\n",
    "_, rw_probs_ = symbolic_distribution(rw, return_missing=True)\n",
    "ax[0].vlines([i for i in range(6)], ymin=0, ymax=rw_probs_, color='#01665e', linewidth=13, alpha=.5)\n",
    "ax[0].plot([i for i in range(6)], rw_probs_, 'o', markersize=13, color='#01665e', markeredgecolor='black', label='Simulation',alpha=.7)\n",
    "\n",
    "\n",
    "ax[0].set_xticks([i for i in range(6)])\n",
    "ax[0].set_xticklabels(['012', '021', '102', '120', '201', '210'])\n",
    "ax[0].set_yticks([0,1/8,1/4])\n",
    "ax[0].set_yticklabels(['0','$\\dfrac{1}{8}$', '$\\dfrac{1}{4}$'])\n",
    "ax[0].set_ylabel('Probability, $p_i(\\pi_i)$')\n",
    "ax[0].spines['left'].set_smart_bounds(True)\n",
    "ax[0].spines['bottom'].set_smart_bounds(True)\n",
    "ax[0].legend(loc='upper center')\n",
    "ax[0].annotate('random walk', (.50,.74),  va='center', ha='center', xycoords='axes fraction',fontsize=20,\n",
    "                bbox={'boxstyle':'round', 'fc':'#f0f0f0', 'alpha':1})\n",
    "\n",
    "########################################################\n",
    "#logistic map (theory)\n",
    "ax[1].hlines([1/3, 1/15, 2/15, 3/15, 4/15,0], xmin=[i-.2 for i in range(6)], xmax=[i+.2 for i in range(6)], linestyle='--', linewidth=2, color='black', label='Theory')\n",
    "\n",
    "#simulation\n",
    "\n",
    "logmap    = logistic_map(n=100000, x0=np.random.uniform())\n",
    "_, probs_ = symbolic_distribution(logmap, return_missing=True)\n",
    "ax[1].vlines([i for i in range(6)], ymin=0, ymax=probs_, color='#8c510a', linewidth=13, alpha=.5)\n",
    "ax[1].plot([i for i in range(5)], probs_[:-1], 'o', markersize=13, color='#8c510a', markeredgecolor='black', label='Simulation',alpha=.7)\n",
    "\n",
    "#plotting style\n",
    "ax[1].set_xticks([i for i in range(6)])\n",
    "ax[1].set_xticklabels(['012', '021', '102', '120', '201', '210'])\n",
    "ax[1].set_yticks([1/3, 1/15, 2/15, 3/15, 4/15, 0])\n",
    "ax[1].set_yticklabels(['$\\dfrac{1}{3}$', '$\\dfrac{1}{15}$', '$\\dfrac{2}{15}$', '$\\dfrac{3}{15}$', '$\\dfrac{4}{15}$', '0'])\n",
    "ax[1].set_ylabel('Probability, $p_i(\\pi_i)$')\n",
    "ax[1].spines['left'].set_smart_bounds(True)\n",
    "ax[1].spines['bottom'].set_smart_bounds(True)\n",
    "ax[1].annotate('logistic map', (.5,.74),  va='center', ha='center', xycoords='axes fraction',fontsize=20,\n",
    "                bbox={'boxstyle':'round', 'fc':'#f0f0f0', 'alpha':1})\n",
    "# ax[1].legend(loc=(.18,.65))\n",
    "ax[1].legend(loc='upper center')\n",
    "\n",
    "# plt.draw()\n",
    "for (i, ax_), xcoord_ in zip(list(enumerate(ax)), [-0.182, -0.215]):    \n",
    "    ax_.annotate('('+string.ascii_lowercase[i]+')', (xcoord_, 1.03), xycoords='axes fraction', fontsize=25, weight='bold')\n",
    "\n",
    "f.tight_layout()\n",
    "# f.savefig('figs-pdf/symbolic_distribution.pdf', dpi=300, bbox_inches='tight')"
   ]
  },
  {
   "cell_type": "markdown",
   "metadata": {},
   "source": [
    "<span style=\"font-family:times; font-weight:bold; font-size:1.8em;\">`missing_states`</span><a class=\"anchor\" id=\"chapter1\"></a>"
   ]
  },
  {
   "cell_type": "code",
   "execution_count": null,
   "metadata": {},
   "outputs": [],
   "source": [
    "missing_states()"
   ]
  },
  {
   "cell_type": "code",
   "execution_count": null,
   "metadata": {
    "code_folding": []
   },
   "outputs": [],
   "source": [
    "#runs in 1 minute. Data to plot Fig 2b. Already saved in the 'data' folder.\n",
    "\n",
    "# fstates_logmap = []\n",
    "\n",
    "# for dx_ in [5,6]:\n",
    "#     temp_amp = []\n",
    "#     for amp_ in np.arange(0,.5,.001):\n",
    "#         temp = []\n",
    "#         for _ in range(10):\n",
    "#             series = noisy_logistic(x0=np.random.uniform(), n=6000, amp=amp_)\n",
    "#             temp.append(missing_states(series, dx=dx_,fraction=False)[1])\n",
    "#         temp_amp.append(np.mean(temp))    \n",
    "#     fstates_logmap.append(temp_amp)\n",
    "\n",
    "# np.save('data/fstates_logmap.npy', fstates_logmap)"
   ]
  },
  {
   "cell_type": "code",
   "execution_count": null,
   "metadata": {
    "ExecuteTime": {
     "end_time": "2020-09-02T13:00:59.249187Z",
     "start_time": "2020-09-02T13:00:09.425543Z"
    },
    "code_folding": []
   },
   "outputs": [],
   "source": [
    "#runs in 1 minute. Data to plot Fig 2a. Already saved in the 'data' folder.\n",
    "\n",
    "# fstates_pure_logmap = []\n",
    "# fstates_rw          = []\n",
    "\n",
    "# for dx_ in [5,6]:\n",
    "#     temp_size    = []\n",
    "#     temp_size_rw = []\n",
    "#     for n_ in np.arange(60, 6001, 90):\n",
    "#         temp, temp_rw = [], []\n",
    "#         for _ in range(10):\n",
    "#             series = logistic_map(n=n_, x0=np.random.uniform())\n",
    "#             temp.append(missing_states(series, dx=dx_, return_fraction=False)[1])\n",
    "#             #\n",
    "#             rws_ = np.cumsum(np.random.normal(size=n_))\n",
    "#             temp_rw.append(missing_states(rws_, dx=dx_, return_fraction=False)[1])\n",
    "#         #\n",
    "#         temp_size.append(np.mean(temp))    \n",
    "#         temp_size_rw.append(np.mean(temp_rw))    \n",
    "#     fstates_pure_logmap.append(temp_size)\n",
    "#     fstates_rw.append(temp_size_rw)\n",
    "\n",
    "# np.save('data/fstates_pure_logmap.npy', fstates_pure_logmap)\n",
    "# np.save('data/fstates_rw.npy', fstates_rw)"
   ]
  },
  {
   "cell_type": "markdown",
   "metadata": {},
   "source": [
    "<span style=\"font-family:times; font-weight:bold; font-size:1.4em;\">Fig. 2</span><a class=\"anchor\" id=\"section_fig2\"></a>"
   ]
  },
  {
   "cell_type": "code",
   "execution_count": null,
   "metadata": {
    "ExecuteTime": {
     "end_time": "2021-01-12T14:35:25.944660Z",
     "start_time": "2021-01-12T14:35:25.457048Z"
    }
   },
   "outputs": [],
   "source": [
    "f, ax = plt.subplots(nrows=2, ncols=1, figsize=(8.19, 12.6))\n",
    "\n",
    "labels = ['$d_x = 5$', '$d_x = 6$']\n",
    "\n",
    "#(a) logistic map whithout noise \n",
    "logi_leg = []\n",
    "fstates_pure_logmap = np.load('data/fstates_pure_logmap.npy')\n",
    "for y_, l_, c_, ms_ in zip(fstates_pure_logmap, labels, ['#bf812d', '#8c510a'], [9,12]):\n",
    "    ax[0].plot(np.arange(60, 6001, 90), y_, '.', markersize=ms_, color=c_, label=l_, scalex='log')\n",
    "    line, = ax[0].plot(np.arange(60, 6001, 90), y_, '.', markersize=ms_, color=c_, label=l_, scalex='log')\n",
    "    logi_leg.append(line)\n",
    "\n",
    "rw_leg = []\n",
    "fstates_rw = np.load('data/fstates_rw.npy')\n",
    "for y_, l_, c_, ms_ in zip(fstates_rw, labels, ['#35978f', '#01665e'], [10,15]):\n",
    "    ax[0].plot(np.arange(60, 6001, 90), y_, '.', markersize=ms_, color=c_, label=l_, scalex='log')\n",
    "    line, = ax[0].plot(np.arange(60, 6001, 90), y_, '.', markersize=ms_, color=c_, label=l_, scalex='log')\n",
    "    rw_leg.append(line)\n",
    "\n",
    "ax[0].set_ylabel(\"Number of missing\\npatterns, $\\eta$\")\n",
    "ax[0].set_xlabel(\"Time series length, $N$\")\n",
    "ax[0].set_xticks([60,2000,4000,6000])\n",
    "ax[0].set_yticks(np.arange(0,601,150))\n",
    "ax[0].hlines(fstates_rw[0][-1], 60, 6000, linestyle='--', linewidth=2, color='black')\n",
    "ax[0].hlines(fstates_rw[1][-1], 60, 6000, linestyle='--', linewidth=2, color='black')\n",
    "ax[0].hlines(fstates_pure_logmap[0][-1], 60, 6000, linestyle='--', linewidth=2, color='black')\n",
    "ax[0].hlines(fstates_pure_logmap[1][-1], 60, 6000, linestyle='--', linewidth=2, color='black')\n",
    "\n",
    "first_legend = plt.legend(handles=rw_leg, loc=(.383,1.84))\n",
    "plt.gca().add_artist(first_legend)\n",
    "second_legend = plt.legend(handles=logi_leg, loc=(.695,1.84))\n",
    "plt.gca().add_artist(second_legend)\n",
    "\n",
    "ax[0].annotate('logistic map', (.705,.7),  xycoords='axes fraction',fontsize=20,\n",
    "                bbox={'boxstyle':'round', 'fc':'#f0f0f0', 'alpha':1})\n",
    "ax[0].annotate('random walk', (.38,.7), xycoords='axes fraction',fontsize=20,\n",
    "                bbox={'boxstyle':'round', 'fc':'#f0f0f0', 'alpha':1})\n",
    "\n",
    "\n",
    "\n",
    "#(b) logistic + noise \n",
    "colors = ['#01665e', '#8c510a']\n",
    "fstates_logmap = np.load('data/fstates_logmap.npy')\n",
    "for y_, c_, l_,lw_ in zip(fstates_logmap, ['#dfc27d', '#8c510a'], labels, [4,6]):\n",
    "    ax[1].plot(np.arange(0,.5,.001), y_, 'o', linewidth=lw_, color=c_, label=l_, scalex='log')\n",
    "\n",
    "ax[1].hlines(0, 0, .5, linestyle='--', linewidth=2)\n",
    "ax[1].set_yticks(np.arange(0,601,150))\n",
    "ax[1].set_ylabel(\"Number of missing\\npatterns, $\\eta$\")\n",
    "\n",
    "ax[1].set_xticks(np.arange(0,.51,.1))\n",
    "ax[1].set_xlabel(r\"Noise amplitude, $\\xi$\")\n",
    "ax[1].legend(loc=(.712,.44))\n",
    "ax[1].annotate('noisy logistic map', (.777,.715),  va='center', ha='center', xycoords='axes fraction',fontsize=20,\n",
    "                bbox={'boxstyle':'round', 'fc':'#f0f0f0', 'alpha':1})\n",
    "\n",
    "\n",
    "plt.draw()\n",
    "for (i, ax_), xcoord_ in zip(list(enumerate(ax)), [-0.275, -0.275]):    \n",
    "    ax_.annotate('('+string.ascii_lowercase[i]+')', (xcoord_, 1.03), xycoords='axes fraction', fontsize=25, weight='bold')\n",
    "    \n",
    "f.tight_layout()\n",
    "# f.savefig('figs-pdf/missing_states.pdf', dpi=300, bbox_inches='tight')"
   ]
  },
  {
   "cell_type": "markdown",
   "metadata": {},
   "source": [
    "<span style=\"font-family:times; font-weight:bold; font-size:1.8em;\">`permutation_entropy`</span><a class=\"anchor\" id=\"chapter2\"></a>"
   ]
  },
  {
   "cell_type": "code",
   "execution_count": 16,
   "metadata": {
    "ExecuteTime": {
     "end_time": "2021-01-12T21:42:27.424442Z",
     "start_time": "2021-01-12T21:42:27.421194Z"
    },
    "code_folding": [
     0
    ],
    "init_cell": true
   },
   "outputs": [],
   "source": [
    "def logistic(a=4, n=100000, x0=0.4):\n",
    "    \"\"\"\n",
    "    Iterates the logistic map.\n",
    "    \n",
    "    Parameters\n",
    "    ----------\n",
    "    x0: initial population ([0,1] interval)\n",
    "    a : intrinsic growth rate (a >= 0; interesting in [0,4] because then, it \n",
    "        maps the orbit to the [0,1] interval to itself.)\n",
    "    n : number of map iterations (length of the series).\n",
    "    ----------\n",
    "    Returns a logistic map orbit.\n",
    "    \"\"\"\n",
    "    x    = np.zeros(n)\n",
    "    x[0] = x0\n",
    "    \n",
    "    for i in range(n-1):\n",
    "        x[i+1] = a*x[i]*(1-x[i])\n",
    "        \n",
    "    return x"
   ]
  },
  {
   "cell_type": "code",
   "execution_count": 17,
   "metadata": {
    "ExecuteTime": {
     "end_time": "2021-01-12T21:42:27.428466Z",
     "start_time": "2021-01-12T21:42:27.425566Z"
    },
    "code_folding": [
     0
    ],
    "init_cell": true
   },
   "outputs": [],
   "source": [
    "def transient_logistic_map(x0=.65, r0 = 2.8):\n",
    "    \"\"\"\n",
    "    Iterates the logistic map changing the\n",
    "    growth parameter r at each step. Initial \n",
    "    conditions x0=.65, r(0)=2.8 and incremental \n",
    "    steps of 10e-5.\n",
    "    \n",
    "    Parameters\n",
    "    ----------\n",
    "    ----------\n",
    "    Returns the corresponding transient \n",
    "    logistic map time series.\n",
    "    \n",
    "    References:\n",
    "    -----------\n",
    "    - Cao et al., Detecting dynamical changes in time series using the permutation entropy, \n",
    "    Phys. Rev. E 70, 046217 (2004);\n",
    "    \n",
    "    - L.L. Trulla et al., Recurrence quantification analysis of the logistic equation\n",
    "    with transients, Phys. Letters A 223 (1996) 255-260.\n",
    "    \"\"\"\n",
    "    x = [r0*x0*(1-x0)]\n",
    "    i = 0\n",
    "#    \n",
    "    for r_ in np.arange(2.80001,4.00001,.00001):\n",
    "        x += [r_*x[i]*(1-x[i])]\n",
    "        i += 1\n",
    "            \n",
    "    return x"
   ]
  },
  {
   "cell_type": "code",
   "execution_count": 18,
   "metadata": {
    "ExecuteTime": {
     "end_time": "2021-01-12T21:42:27.431253Z",
     "start_time": "2021-01-12T21:42:27.429333Z"
    },
    "code_folding": [
     0
    ],
    "init_cell": true
   },
   "outputs": [],
   "source": [
    "def normalize_array(x):\n",
    "    \"\"\"\n",
    "    Normalizes an array between 0 and 1\n",
    "    \n",
    "    Parameters\n",
    "    ----------\n",
    "    x: a numpy array\n",
    "    ----------\n",
    "    Returns a normalized array.\n",
    "    \n",
    "    \"\"\"\n",
    "    x = x-x.min()\n",
    "    return x/x.max()"
   ]
  },
  {
   "cell_type": "code",
   "execution_count": null,
   "metadata": {
    "ExecuteTime": {
     "end_time": "2020-08-07T15:26:05.747547Z",
     "start_time": "2020-08-07T14:30:45.910723Z"
    },
    "code_folding": []
   },
   "outputs": [],
   "source": [
    "# 55 min to run. Data to plot Fig. 3d. Already saved in the 'data' folder.\n",
    "\n",
    "# H_logistic = []\n",
    "# xlog_      = np.linspace(3.5,4.,num=5001)\n",
    "# for a in xlog_:\n",
    "#     data = logistic(a)\n",
    "#     H_logistic += [permutation_entropy(data, dx=6, base=2, normalized=False)]\n",
    "\n",
    "# np.save(\"data/entropy_logistic.npy\", H_logistic)"
   ]
  },
  {
   "cell_type": "code",
   "execution_count": null,
   "metadata": {
    "ExecuteTime": {
     "end_time": "2020-08-26T23:28:05.503333Z",
     "start_time": "2020-08-26T23:27:37.218668Z"
    },
    "code_folding": []
   },
   "outputs": [],
   "source": [
    "# 30 seconds to run. Data to plot Fig. 3a. Only last 10000 data points are used to avoid too dense plot. Already saved in the 'data' folder.\n",
    "\n",
    "# logistic_bp = []\n",
    "# for r in np.linspace(3.5,4.,num=501):\n",
    "#     logistic_bp.append(logistic(a=r, x0=np.random.uniform())[90000:])\n",
    "# np.save('data/logistic_bp.npy', logistic_bp)"
   ]
  },
  {
   "cell_type": "code",
   "execution_count": null,
   "metadata": {
    "ExecuteTime": {
     "end_time": "2020-08-27T12:07:09.342520Z",
     "start_time": "2020-08-27T11:43:38.182251Z"
    },
    "code_folding": []
   },
   "outputs": [],
   "source": [
    "#24 minutes to run. Data to plot Fig 3e. Already saved in the 'data' folder.\n",
    "\n",
    "# ts_tlogmap = transient_logistic_map()\n",
    "\n",
    "# h_tlogmap_tau1 = []\n",
    "# h_tlogmap_tau2 = []\n",
    "\n",
    "# for i in range(0,120001-1023):\n",
    "#     ts_window  = ts_tlogmap[i:i+1024]\n",
    "#     h_tlogmap_tau1.append(permutation_entropy(ts_window, dx=5))\n",
    "#     h_tlogmap_tau2.append(permutation_entropy(ts_window, dx=5, tau_x=2))    \n",
    "\n",
    "# np.save('data/h_tlogmap_tau1.npy', np.concatenate((np.zeros(1023), h_tlogmap_tau1)))\n",
    "# np.save('data/h_tlogmap_tau2.npy', np.concatenate((np.zeros(1023), h_tlogmap_tau2)))\n",
    "\n",
    "# h_tlogmap_tau1 = np.load('data/h_tlogmap_tau1.npy')\n",
    "# h_tlogmap_tau2 = np.load('data/h_tlogmap_tau2.npy')"
   ]
  },
  {
   "cell_type": "code",
   "execution_count": null,
   "metadata": {
    "ExecuteTime": {
     "end_time": "2020-09-02T13:16:29.917992Z",
     "start_time": "2020-09-02T13:16:10.267396Z"
    },
    "code_folding": []
   },
   "outputs": [],
   "source": [
    "#30 seconds to run. Data to plot Fig 3f. Already saved in the 'data' folder.\n",
    "\n",
    "# h2d_ising = []\n",
    "# c2d_ising = []\n",
    "\n",
    "# for dx_, dy_ in [[3,2], [2,3]]:\n",
    "#     temp, temp2 = [], []\n",
    "#     for path in sorted(glob.glob('data/ising-surfaces-pickles/100000ising*')):\n",
    "#         surface_ = np.load(path)\n",
    "#         h_, c_   = complexity_entropy(surface_, dx=dx_, dy=dy_)\n",
    "#         temp.append(h_)\n",
    "#         temp2.append(c_)\n",
    "#     h2d_ising.append(temp)\n",
    "#     c2d_ising.append(temp2)\n",
    "\n",
    "# np.save('data/h2d_ising.npy',h2d_ising)\n",
    "# np.save('data/c2d_ising.npy',c2d_ising)"
   ]
  },
  {
   "cell_type": "markdown",
   "metadata": {},
   "source": [
    "<span style=\"font-family:times; font-weight:bold; font-size:1.4em;\">Fig. 3</span><a class=\"anchor\" id=\"section_fig3\"></a>"
   ]
  },
  {
   "cell_type": "code",
   "execution_count": null,
   "metadata": {
    "ExecuteTime": {
     "end_time": "2021-01-12T14:54:50.311501Z",
     "start_time": "2021-01-12T14:53:39.936530Z"
    },
    "code_folding": []
   },
   "outputs": [],
   "source": [
    "f        = plt.figure(figsize=(24.57, 12.6))\n",
    "spec     = f.add_gridspec(ncols=6, nrows=4)\n",
    "ax       = []\n",
    "for row in range(2): \n",
    "    for col in range(3):\n",
    "        if not (row==0 and col==2):\n",
    "            ax.append(f.add_subplot(spec[row*2:2*row+2, col*2:2*col+2]))\n",
    "        else:\n",
    "            ax.append([f.add_subplot(spec[0:1,4:5]), f.add_subplot(spec[0:1,5:6]), f.add_subplot(spec[1:2,4:5]), f.add_subplot(spec[1:2,5:6])])\n",
    "\n",
    "            \n",
    "#bifurcation logistic map (a)\n",
    "logistic_bp      = np.load('data/logistic_bp.npy')\n",
    "for r, y in zip(np.linspace(3.5,4.,num=501), logistic_bp):\n",
    "    ax[0].plot(np.full(10000, r), y, '.', markersize=.11, color='#01665e', alpha=.2, rasterized=True)\n",
    "    ax[0].set_ylabel('Population, $x$')\n",
    "    ax[0].set_xlabel('Parameter, $r$')\n",
    "    ax[0].set_xticks(np.arange(3.5,4.05,.1).round(decimals=1))\n",
    "\n",
    "    \n",
    "#transient logistic map (b)\n",
    "y = transient_logistic_map()\n",
    "ax[1].plot(np.arange(2.8,4,.00001), y, '.', markersize=.2, color='#01665e', rasterized=True)\n",
    "ax[1].set_ylabel('Population, $x[r(t)]$')\n",
    "ax[1].set_xlabel('Parameter, $r(t)$')\n",
    "ax[1].set_xticks(np.arange(2.8,4.05,.2).round(decimals=1))\n",
    "\n",
    "\n",
    "#ising surfaces (c)\n",
    "ising2d8  = normalize_array(np.load('data/ising-surfaces-pickles/100000ising0.8.npy'))\n",
    "ising2d9  = normalize_array(np.load('data/ising-surfaces-pickles/100000ising0.9.npy'))\n",
    "ising2d10 = normalize_array(np.load('data/ising-surfaces-pickles/100000ising1.0.npy'))\n",
    "ising2d11 = normalize_array(np.load('data/ising-surfaces-pickles/100000ising1.1.npy'))\n",
    "\n",
    "for ax_, s_,T in zip(ax[2], [ising2d8, ising2d9, ising2d10, ising2d11], [0.8, 0.9, 1.0, 1.1]): \n",
    "    ax_.imshow(s_, cmap='BrBG', interpolation='nearest', rasterized=True)\n",
    "    ax_.annotate('$T = {}$'.format(T), (.5, -0.2),  va='center', ha='center', xycoords='axes fraction', fontsize=20)\n",
    "    ax_.axis('off')\n",
    "    \n",
    "    pos = ax_.imshow(s_, cmap='BrBG')\n",
    "#green is higher than brown\n",
    "# f.colorbar(pos, ax=ax[2][3], aspect=10)\n",
    "\n",
    "\n",
    "#entropy logistic map (d)\n",
    "entropy_logistic = np.load(\"data/entropy_logistic.npy\")\n",
    "\n",
    "ax[3].plot(np.linspace(3.5,4.,num=5001), entropy_logistic/5, '.', markersize=2.5, color='#01665e', label=r'$d_x = 6$', rasterized=True)\n",
    "ax[3].set_xlabel('Parameter, $r$')\n",
    "ax[3].set_ylabel('Permutation entropy \\n per symbol, $h_6$', multialignment='center')\n",
    "# ax[3].annotate(r'$d_x = 6$', (.1, .91),  va='center', ha='center', xycoords='axes fraction',fontsize=20,\n",
    "#                bbox={'boxstyle':'round', 'fc':'white', 'alpha':1, 'ec':'#d9d9d9'})\n",
    "ax[3].legend(handletextpad=0, markerscale=3)\n",
    "ax[3].set_xticks(np.arange(3.5,4.05,.1).round(decimals=1))\n",
    "\n",
    "\n",
    "#entropy transient logistic map (e)\n",
    "h_tlogmap_tau1 = np.load('data/h_tlogmap_tau1.npy')\n",
    "h_tlogmap_tau2 = np.load('data/h_tlogmap_tau2.npy')\n",
    "x_tlogmap      = np.arange(2.8000,4.00001,.00001)\n",
    "\n",
    "for y_, l_, c_ in zip([h_tlogmap_tau1, h_tlogmap_tau2], [r'$d_x = 5, \\tau_x = 1$', r'$d_x = 5, \\tau_x = 2$'], ['#01665e', '#8c510a']):\n",
    "    if l_==r'$d_x = 5, \\tau_x = 2$':\n",
    "        ax[4].plot(x_tlogmap, y_, linewidth=3, label=l_, color=c_, rasterized=True, zorder=0)\n",
    "    else:\n",
    "        ax[4].plot(x_tlogmap, y_, linewidth=2, label=l_, color=c_, rasterized=True)\n",
    "    ax[4].set_xlabel('Parameter, $r(t)$')\n",
    "    ax[4].set_ylabel('Permutation entropy, $H[r(t)]$')\n",
    "    ax[4].set_xlim(left=2.8)\n",
    "    ax[4].legend()\n",
    "#     ax[4].annotate(r'$d_x = 5$', (.185, .695),  va='center', ha='center', xycoords='axes fraction',fontsize=20,\n",
    "#              bbox={'boxstyle':'round', 'fc':'white', 'alpha':1, 'ec':'#d9d9d9'})\n",
    "    ax[4].set_xticks(np.arange(2.8,4.05,.2).round(decimals=1))\n",
    "    \n",
    "    \n",
    "#entropy ising surfaces\n",
    "h2d_ising = np.load('data/h2d_ising.npy')\n",
    "x_ising   = np.arange(0.5,3.05,0.1).round(decimals=2)\n",
    "\n",
    "for y_, c_, m_, ms_, l_ in zip(h2d_ising, ['#01665e', '#8c510a'], ['s', 'o'], [10,8], ['$d_x = 3$\\n$d_y=2$', '$d_x = 2$\\n$d_y=3$']):\n",
    "    ax[5].plot(x_ising, y_, '-o', marker=m_, markersize=ms_, color=c_, label=l_)\n",
    "    ax[5].set_xlabel('Reduced temperature, $T_r$')\n",
    "    ax[5].set_ylabel('Permutation entropy, $H$')\n",
    "    ax[5].legend()\n",
    "\n",
    "    \n",
    "plt.draw()\n",
    "for (i, ax_), cnt in zip(list(enumerate(ax[:2]+[ax[2][0]]+ax[3:])), range(6)):    \n",
    "    if not cnt==2:\n",
    "        x_, y_ = ax_.transAxes.inverted().transform(ax_.yaxis.get_label().get_transform().transform(ax_.yaxis.get_label().get_position()))\n",
    "        ax_.annotate('('+string.ascii_lowercase[i]+')', (x_-.04, y_+.6), xycoords='axes fraction', ha='center',va='top', fontsize=30, weight='bold')\n",
    "    else: \n",
    "        pass\n",
    "    \n",
    "f.tight_layout()\n",
    "# f.savefig('figs-pdf/permutation_entropy_beta.pdf', dpi=300, bbox_inches='tight')\n",
    "# f.savefig('figs-pdf/permutation_entropy_beta.svg', dpi=300, bbox_inches='tight')"
   ]
  },
  {
   "cell_type": "markdown",
   "metadata": {
    "ExecuteTime": {
     "end_time": "2020-08-28T11:09:11.148839Z",
     "start_time": "2020-08-28T11:09:11.146195Z"
    }
   },
   "source": [
    "<span style=\"font-family:times; font-weight:bold; font-size:1.8em;\">`complexity_entropy`</span><a class=\"anchor\" id=\"chapter3\"></a>"
   ]
  },
  {
   "cell_type": "code",
   "execution_count": 19,
   "metadata": {
    "ExecuteTime": {
     "end_time": "2021-01-12T21:42:27.435351Z",
     "start_time": "2021-01-12T21:42:27.432133Z"
    },
    "code_folding": [
     1
    ],
    "init_cell": true
   },
   "outputs": [],
   "source": [
    "#Skew tent map\n",
    "def skew_tent_map(n=2**15, omega=0.1847, x0=.5):\n",
    "    \"\"\"\n",
    "    Iterates the Skew tent map.\n",
    "    \n",
    "    Parameters\n",
    "    ----------\n",
    "    n     : time series length.\n",
    "    omega : map parameter.\n",
    "    x0    : initial condition.\n",
    "    ----------\n",
    "    Returns an array corresponding to a \n",
    "    time series.\n",
    "    \"\"\"\n",
    "    x    = np.zeros(n)\n",
    "    x[0] = x0\n",
    "    \n",
    "    for i in range(1, len(x)):\n",
    "        if x[i-1] < omega:\n",
    "            x[i] = x[i-1]/omega\n",
    "        else:\n",
    "            x[i] = (1-x[i-1])/(1-omega)\n",
    "    \n",
    "    return x"
   ]
  },
  {
   "cell_type": "code",
   "execution_count": 20,
   "metadata": {
    "ExecuteTime": {
     "end_time": "2021-01-12T21:42:27.438977Z",
     "start_time": "2021-01-12T21:42:27.436260Z"
    },
    "code_folding": [
     1
    ],
    "init_cell": true
   },
   "outputs": [],
   "source": [
    "#Logistic map\n",
    "def logistic_map(n=2**15, r=4, x0=0.4):\n",
    "    \"\"\"\n",
    "    Iterates the logistic map.\n",
    "    \n",
    "    Parameters\n",
    "    ----------\n",
    "    n  : number of map iterations (length of the series).\n",
    "    x0 : initial population ([0,1] interval)\n",
    "    r  : intrinsic growth rate (r >= 0; interesting in [0,4] because then, it \n",
    "         maps the orbit to the [0,1] interval to itself.)\n",
    "    ----------\n",
    "    Returns a logistic map orbit.\n",
    "    \"\"\"\n",
    "    x    = np.zeros(n)\n",
    "    x[0] = x0\n",
    "    \n",
    "    for i in range(n-1):\n",
    "        x[i+1] = r*x[i]*(1-x[i])\n",
    "        \n",
    "    return x"
   ]
  },
  {
   "cell_type": "code",
   "execution_count": 21,
   "metadata": {
    "ExecuteTime": {
     "end_time": "2021-01-12T21:42:27.444525Z",
     "start_time": "2021-01-12T21:42:27.440230Z"
    },
    "code_folding": [
     1
    ],
    "init_cell": true
   },
   "outputs": [],
   "source": [
    "#Henon's map\n",
    "def henon_map(n=2**15, a=1.4, b=0.3, x0=.5, y0=.5):\n",
    "    \"\"\"\n",
    "    Paramenters\n",
    "    -----------\n",
    "    n  : time series length.\n",
    "    a  : map parameter.\n",
    "    b  : map parameter.\n",
    "    x0 : initial condition.\n",
    "    y0 : initial condition.\n",
    "    -----------\n",
    "    \n",
    "    Returns the x and y variables of Henón's map.\n",
    "    \"\"\"\n",
    "    with warnings.catch_warnings():\n",
    "        warnings.simplefilter(\"error\")\n",
    "            \n",
    "        bool_ = False\n",
    "        while bool_==False:        \n",
    "            try:\n",
    "                x    = np.zeros(n)\n",
    "                y    = np.zeros(n)\n",
    "\n",
    "                x[0] = x0\n",
    "                y[0] = y0\n",
    "\n",
    "                for i in range(1, n):\n",
    "                    x[i] = 1 - a*x[i-1]**2 + y[i-1]\n",
    "                    y[i] = b*x[i-1]\n",
    "\n",
    "                bool_ = True\n",
    "\n",
    "            except RuntimeWarning: #changes the random inital condition\n",
    "                x0 = np.random.uniform()\n",
    "                y0 = np.random.uniform()\n",
    "\n",
    "    return x, y"
   ]
  },
  {
   "cell_type": "code",
   "execution_count": 22,
   "metadata": {
    "ExecuteTime": {
     "end_time": "2021-01-12T21:42:27.449137Z",
     "start_time": "2021-01-12T21:42:27.445906Z"
    },
    "code_folding": [
     1
    ],
    "init_cell": true
   },
   "outputs": [],
   "source": [
    "#Schuster's map\n",
    "def schuster_map(n=2**15, z=2, x0=.5):\n",
    "    \"\"\"\n",
    "    \n",
    "    Parameters\n",
    "    ----------\n",
    "    n : time series length\n",
    "    z :  map parameter\n",
    "    ----------\n",
    "    Returns an orbit of an iterated Schuster map.\n",
    "    \"\"\"\n",
    "    z    = float(z)\n",
    "    x    = np.zeros(n)\n",
    "    x[0] = x0\n",
    "    \n",
    "    for i in range(1, n):\n",
    "        x[i], _ = np.modf(x[i-1] + x[i-1]**z)\n",
    "    \n",
    "    return x"
   ]
  },
  {
   "cell_type": "markdown",
   "metadata": {},
   "source": [
    "<span style=\"font-family:times; font-weight:bold; font-size:1.4em;\">Fig. 4</span><a class=\"anchor\" id=\"section_fig4\"></a>"
   ]
  },
  {
   "cell_type": "code",
   "execution_count": null,
   "metadata": {
    "ExecuteTime": {
     "end_time": "2021-01-12T15:08:12.247125Z",
     "start_time": "2021-01-12T15:07:40.426671Z"
    }
   },
   "outputs": [],
   "source": [
    "#30 seconds to run. Data to plot Fig. 4.\n",
    "\n",
    "#TIME SERIES DATA\n",
    "#Chaotic Maps (empty markers)\n",
    "\n",
    "hc_stentmap            = np.mean([complexity_entropy(skew_tent_map(x0=np.random.uniform()), dx=6) for _ in range(10)], axis=0)\n",
    "hc_henon_x, hc_henon_y = np.mean([[complexity_entropy(x_, dx=6), complexity_entropy(y_, dx=6)] for x_,y_ in [(henon_map(x0=np.random.uniform(), y0=np.random.uniform())) \n",
    "                                                                                               for _ in range(10)]], axis=0)\n",
    "hc_logistic            = np.mean([complexity_entropy(logistic_map(x0=np.random.uniform()), dx=6) for _ in range(10)], axis=0)\n",
    "hc_schuster            = np.mean([[complexity_entropy(schuster_map(z=z_,x0=np.random.uniform()), dx=6) for _ in range(10)] for z_ in [3/2,2,5/2]], axis=1)\n",
    "\n",
    "\n",
    "#Stochastic processes (filled markers)\n",
    "\n",
    "#either run or load, to get the k-noise data. To run, you have to install the colorednoise module - https://github.com/felixpatzelt/colorednoise\n",
    "# hc_knoise = np.mean([[complexity_entropy(colorednoise.powerlaw_psd_gaussian(exponent=k_, size=2**15), dx=6) for _ in range(10)] for k_ in np.arange(0,3.1,.25).round(decimals=2)], axis=1)\n",
    "hc_knoise = np.load('data/hc_knoise.npy')\n",
    "\n",
    "hc_fbm    = np.load('data/hc_fbm.npy')\n",
    "hc_fgn    = np.load('data/hc_fgn.npy')\n",
    "\n",
    "\n",
    "#theoretical curves\n",
    "hc_max_curve = maximum_complexity_entropy(dx=6).T\n",
    "hc_min_curve = minimum_complexity_entropy(dx=6, size=719).T\n",
    "\n",
    "\n",
    "\n",
    "#IMAGE DATA\n",
    "pollock   = mpimg.imread('data/number-1-lavender-mist-1950.jpg')\n",
    "reinhardt = mpimg.imread('data/abstract-painting-blue-1953.jpg')\n",
    "amaral    = mpimg.imread('data/abaporu-1928.jpg')\n",
    "\n",
    "hc_paintings = np.asarray([complexity_entropy(painting, dx=2, dy=2) for painting in [pollock.mean(axis=2), reinhardt.mean(axis=2), amaral.mean(axis=2)]])"
   ]
  },
  {
   "cell_type": "code",
   "execution_count": null,
   "metadata": {
    "ExecuteTime": {
     "end_time": "2021-01-12T15:08:55.032351Z",
     "start_time": "2021-01-12T15:08:54.044700Z"
    },
    "scrolled": false
   },
   "outputs": [],
   "source": [
    "f, ax = plt.subplots(nrows=2, ncols=1, figsize=(9.1, 14.0))\n",
    "\n",
    "hc_data = [hc_stentmap, hc_henon_x, hc_logistic, hc_schuster, hc_knoise, hc_fbm, hc_fgn]\n",
    "labels  = ['Skew Tent Map', 'Henon Map', 'Logistic Map',\n",
    "           'Schuster Map', 'K-Noise', 'fBm', 'fGn']\n",
    "markers = ['o', 's', '^', 'd', 's', '^', 'v', ]\n",
    "\n",
    "colors = ['#f6e8c3', '#dfc27d', '#bf812d', '#8c510a', '#f5f5f5', '#80cdc1', '#01665e']\n",
    "\n",
    "\n",
    "for data_, marker_,color_, label_, cnt in zip(hc_data, markers, colors, labels, range(len(hc_data))):\n",
    "#point plotting\n",
    "    h_, c_ = data_.T\n",
    "    ax[0].plot(h_, c_, marker_, markersize=13, markeredgecolor='black', color=color_, label=label_)\n",
    "\n",
    "#dotted black line connecting dots\n",
    "    if cnt>2:\n",
    "        ax[0].plot(h_, c_, '--', linewidth=1, color='black', zorder=0)\n",
    "        \n",
    "#annotations\n",
    "        if cnt==3: #schuster map\n",
    "            for tx_,x_, y_ in zip(['3/2', '2', '5/2'], h_+np.asarray([.025]*3), c_+np.asarray([-.005]*3)):\n",
    "                ax[0].annotate('$z = {}$'.format(tx_), xy=(x_, y_), fontsize=15, color=colors[3])\n",
    "        if cnt==4: #colored noise\n",
    "            adjx_ = [0.015, 0.025,-.005,0.0]\n",
    "            adjy_ = [-0.00,-0.005,0.015,  .015]\n",
    "            ncnt  = 0\n",
    "            for n_, x_, y_ in zip(np.arange(0,3.1,.25).round(decimals=2), h_, c_):\n",
    "                if n_ in [0,1,2,3]:\n",
    "                    ax[0].annotate('$k = {}$'.format(int(n_)), xy=(x_+adjx_[ncnt],y_+adjy_[ncnt]), fontsize=15, color='black')\n",
    "                    ncnt += 1     \n",
    "        if cnt==5: #fBm\n",
    "            for tx_,x_, y_,adjx_, adjy_ in zip(['0.1','0.5','0.9'], h_[[0,4,8]], c_[[0,4,8]], [-.14,-.13,-.04], [-0.008,-0.010,-0.03]):\n",
    "                ax[0].annotate(r'$h = {}$'.format(tx_), xy=(x_+adjx_,y_+adjy_), fontsize=15, color='black')\n",
    "    \n",
    "ax[0].legend(frameon=False, loc=(0,.85),ncol=2, fontsize=15)\n",
    "ax[0].set_ylim(bottom=0,top=.51)\n",
    "ax[0].set_xlim(left=0, right=1.06)\n",
    "\n",
    "#theoretical curves\n",
    "hmin, cmin = hc_min_curve #(this variable is defined in the cell above)\n",
    "hmax, cmax = hc_max_curve #(this variable is defined in the cell above)\n",
    "ax[0].plot(hmin, cmin, linewidth=1.5, color='black', zorder=0)\n",
    "ax[0].plot(hmax, cmax, linewidth=1.5, color='black', zorder=0)\n",
    "    \n",
    "ax[0].set_ylabel('Statistical complexity, $C$')\n",
    "ax[0].set_xlabel('Permutation entropy, $H$')\n",
    "ax[0].annotate('$d_x = 6$', (.5, .2),  va='center', ha='center', xycoords='axes fraction',fontsize=20,\n",
    "                bbox={'boxstyle':'round', 'fc':'white', 'alpha':1, 'ec':'#d9d9d9'})\n",
    "\n",
    "\n",
    "########################################################\n",
    "\n",
    "painting_colors = ['#01665e', '#737373', '#8c510a']\n",
    "for (h_, c_), cl_, (xoff,yoff), tx_, painting, (xcoord_, ycoord_), zoom_ in zip(hc_paintings, painting_colors, [(-.095,0), (.015,0), (-.095,0)], \n",
    "                                                                                ['Pollock', 'Reinhardt', 'Amaral'], [pollock, reinhardt, amaral], \n",
    "                                                                                [(.92,.0713), (.46,.175), (.83,.193)], [.1,.2,.1]):\n",
    "    ax[1].plot(h_, c_, 'o', markersize=13, markeredgecolor='black', color=cl_)\n",
    "    ax[1].annotate(tx_, xy=(h_+xoff, c_+yoff), fontsize=18, weight='bold')\n",
    "    \n",
    "    box = mpl.offsetbox.OffsetImage(painting, zoom=zoom_)\n",
    "    pic = mpl.offsetbox.AnnotationBbox(box, (xcoord_, ycoord_))\n",
    "    ax[1].add_artist(pic)\n",
    "    \n",
    "ax[1].annotate('$d_x = 2$\\n$d_y=2$', (.5, .2),  va='center', ha='center', xycoords='axes fraction',fontsize=20,\n",
    "                bbox={'boxstyle':'round', 'fc':'white', 'alpha':1, 'ec':'#d9d9d9'})\n",
    "\n",
    "ax[1].set_xlabel('Permutation entropy, $H$')\n",
    "ax[1].set_ylabel('Statistical complexity, $C$')\n",
    "     \n",
    "plt.draw()\n",
    "for (i, ax_), x_ in zip(list(enumerate(ax)), [-.2,-.227]):    \n",
    "    ax_.annotate('('+string.ascii_lowercase[i]+')', (x_,1.07), xycoords='axes fraction', fontsize=25, weight='bold')\n",
    "\n",
    "\n",
    "f.tight_layout()\n",
    "f.savefig('figs-pdf/complexity_entropy.pdf', dpi=300, bbox_inches='tight')"
   ]
  },
  {
   "cell_type": "markdown",
   "metadata": {},
   "source": [
    "<span style=\"font-family:times; font-weight:bold; font-size:1.8em;\">`tsallis_complexity_entropy` and `rényi_complexity_entropy`</span><a class=\"anchor\" id=\"chapter4\"></a>"
   ]
  },
  {
   "cell_type": "code",
   "execution_count": null,
   "metadata": {
    "ExecuteTime": {
     "end_time": "2021-01-12T19:27:26.425944Z",
     "start_time": "2021-01-12T19:27:02.119697Z"
    }
   },
   "outputs": [],
   "source": [
    "# 30 seconds to run. Data to plot Fig 5.\n",
    "\n",
    "logmap_dx3_probs = [1/3, 1/15, 4/15, 2/15, 1/5, 0]\n",
    "rw_dx3_probs     = [0.25, 0.125, 0.125, 0.125, 0.125, 0.25]\n",
    "logistic_ts      = logistic_map(n=1100000,x0=np.random.uniform())[100000:]\n",
    "rw_ts            = np.cumsum(np.random.normal(size=1000000))\n",
    "\n",
    "\n",
    "#Tsallis curves\n",
    "h_theory_logmap_tsallis, c_theory_logmap_tsallis = tsallis_complexity_entropy(logmap_dx3_probs, q=np.logspace(-2,2,num=1000), dx=3, probs=True).T\n",
    "h_exp_logmap_tsallis, c_exp_logmap_tsallis       = tsallis_complexity_entropy(logistic_ts, q=np.logspace(-2,2,num=1000)).T\n",
    "\n",
    "h_theory_rw_tsallis, c_theory_rw_tsallis = tsallis_complexity_entropy(rw_dx3_probs, q=np.logspace(-3,2,num=1000), dx=3, probs=True).T\n",
    "h_exp_rw_tsallis, c_exp_rw_tsallis       = tsallis_complexity_entropy(rw_ts, q=np.logspace(-3,2,num=1000), dx=3).T\n",
    "\n",
    "\n",
    "#Rényi curves\n",
    "h_exp_logmap_renyi, c_exp_logmap_renyi       = renyi_complexity_entropy(logistic_ts, alpha=np.logspace(-2,2,num=1000), dx=4).T\n",
    "h_exp_rw_renyi, c_exp_rw_renyi       = renyi_complexity_entropy(rw_ts, alpha=np.logspace(-3,2,num=1000), dx=4).T"
   ]
  },
  {
   "cell_type": "markdown",
   "metadata": {},
   "source": [
    "<span style=\"font-family:times; font-weight:bold; font-size:1.4em;\">Fig. 5</span><a class=\"anchor\" id=\"section_fig5\"></a>"
   ]
  },
  {
   "cell_type": "code",
   "execution_count": null,
   "metadata": {
    "ExecuteTime": {
     "end_time": "2021-01-12T19:27:42.911935Z",
     "start_time": "2021-01-12T19:27:42.417107Z"
    },
    "scrolled": false
   },
   "outputs": [],
   "source": [
    "#reestructuring the data\n",
    "logmap_tsallis = [(h_theory_logmap_tsallis, c_theory_logmap_tsallis), (h_exp_logmap_tsallis, c_exp_logmap_tsallis)]\n",
    "rw_tsallis     = [(h_theory_rw_tsallis, c_theory_rw_tsallis), (h_exp_rw_tsallis, c_exp_rw_tsallis)]\n",
    "\n",
    "labels_ = [(r'Permutation entropy, $H_q$', r'Statistical complexity, $C_q$')]*2\n",
    "\n",
    "#plotting\n",
    "f, ax = plt.subplots(nrows=2,ncols=1,figsize=(8.372, 12.88))\n",
    "\n",
    "for data, ax_,(xcoord, ycoord), tx_, (xoff, yoff), (xl_, yl_), k in zip([logmap_tsallis, rw_tsallis], ax.flatten(), \n",
    "                                                                        [(.83,.1), (.2,.1)], ['logistic map', 'random walk'],\n",
    "                                                                        [(.878,.21), (.145,.21)], labels_, range(2)):                                                                 \n",
    "    for (x_, y_), i, cl_ in zip(data, range(2), ['#01665e', '#8c510a']):\n",
    "        if k==0: #avoids repeating the labels 'Simulated' and 'Theory'in each panel.\n",
    "            if i==1:\n",
    "                ax_.plot(x_, y_, label='Simulation', linewidth=3, color=cl_, zorder=0)\n",
    "                ax_.legend()\n",
    "            else:\n",
    "                ax_.plot(x_, y_, label='Theory', dashes=(2,3), linewidth=5, color=cl_)\n",
    "                ax_.legend()\n",
    "        else:\n",
    "            if i==1:\n",
    "                ax_.plot(x_, y_, linewidth=3, color=cl_, zorder=0)\n",
    "            else:\n",
    "                ax_.plot(x_, y_, dashes=(2,3), linewidth=5, color=cl_)\n",
    "                \n",
    "    ax_.set_ylabel(yl_)\n",
    "    ax_.set_xlabel(xl_)\n",
    "    ax_.annotate(tx_, (xcoord,ycoord),  va='center', ha='center', xycoords='axes fraction',fontsize=20,\n",
    "                 bbox={'boxstyle':'round', 'fc':'#f0f0f0', 'alpha':1})\n",
    "    ax_.annotate('$d_x = 3$', (xoff,yoff),  va='center', ha='center', xycoords='axes fraction',fontsize=20,\n",
    "                 bbox={'boxstyle':'round', 'fc':'white', 'ec':'#d9d9d9', 'alpha':1})\n",
    "    \n",
    "#\n",
    "ax[0].plot(h_exp_logmap_tsallis[0], c_exp_logmap_tsallis[0], '*', color='black', markersize=12, zorder=2)\n",
    "ax[0].plot(h_exp_logmap_tsallis[-1], c_exp_logmap_tsallis[-1],'.',color='black', markersize=15, zorder=2)\n",
    "\n",
    "#\n",
    "# ax[1].plot(h_exp_rw_tsallis[0], c_exp_rw_tsallis[0], '*', color='black', markersize=12, zorder=2)\n",
    "ax[1].plot(h_exp_rw_tsallis[-1], c_exp_rw_tsallis[-1], '.',color='black', markersize=15, zorder=2)\n",
    "    \n",
    "plt.draw()\n",
    "for (i, ax_), x_ in zip(list(enumerate(ax.flatten())), [-.255,-.255,-.222,-.25]):    \n",
    "    ax_.annotate('('+string.ascii_lowercase[i]+')', (x_, 1.05), xycoords='axes fraction', fontsize=25, weight='bold')\n",
    "        \n",
    "f.tight_layout()\n",
    "# f.savefig('figs-pdf/tsallis_complexity_entropy.pdf', dpi=300, bbox_inches='tight')"
   ]
  },
  {
   "cell_type": "markdown",
   "metadata": {
    "ExecuteTime": {
     "end_time": "2021-01-12T13:43:57.658754Z",
     "start_time": "2021-01-12T13:43:57.655761Z"
    }
   },
   "source": [
    "<span style=\"font-family:times; font-weight:bold; font-size:1.4em;\">Fig. 6</span><a class=\"anchor\" id=\"section_fig6\"></a>"
   ]
  },
  {
   "cell_type": "code",
   "execution_count": null,
   "metadata": {
    "ExecuteTime": {
     "end_time": "2021-01-12T19:27:45.215679Z",
     "start_time": "2021-01-12T19:27:44.801183Z"
    },
    "scrolled": false
   },
   "outputs": [],
   "source": [
    "#reestructuring the data\n",
    "\n",
    "renyi_data    = [[h_exp_logmap_renyi, c_exp_logmap_renyi], [h_exp_rw_renyi, c_exp_rw_renyi]]\n",
    "renyi_labels_ = [(r'Permutation entropy, $H_\\alpha$', r'Statistical complexity, $C_\\alpha$')]*2\n",
    "colors_       = ['#8c510a', '#01665e']\n",
    "processes     = ['logistic map', 'random walk']\n",
    "\n",
    "#plotting\n",
    "f, ax = plt.subplots(nrows=2,ncols=1,figsize=(8.372, 12.88))\n",
    "\n",
    "for ax_, data, (xcoord, ycoord), tx_, (xoff, yoff), (xl_, yl_), cl_,k in zip(ax.flatten(), renyi_data, [[.18,.1], [.2,.1]], processes,\n",
    "                                                                             [[.135,.21], [.145,.21]], renyi_labels_, colors_, range(2)):        \n",
    "    x_, y_ = data\n",
    "    ax_.plot(x_, y_, linewidth=5, color=cl_, zorder=0)\n",
    "#     ax_.legend()\n",
    "    ax_.set_ylabel(yl_)\n",
    "    ax_.set_xlabel(xl_)\n",
    "    ax_.annotate(tx_, (xcoord,ycoord),  va='center', ha='center', xycoords='axes fraction',fontsize=20,\n",
    "                 bbox={'boxstyle':'round', 'fc':'#f0f0f0', 'alpha':1})\n",
    "    ax_.annotate('$d_x = 4$', (xoff,yoff),  va='center', ha='center', xycoords='axes fraction',fontsize=20,\n",
    "                 bbox={'boxstyle':'round', 'fc':'white', 'ec':'#d9d9d9', 'alpha':1})\n",
    "    \n",
    "#\n",
    "ax[0].plot(h_exp_logmap_renyi[0], c_exp_logmap_renyi[0], '*', color='black', markersize=15, zorder=2)\n",
    "ax[0].plot(h_exp_logmap_renyi[-1], c_exp_logmap_renyi[-1],'.',color='black', markersize=20, zorder=2)\n",
    "\n",
    "#\n",
    "ax[1].plot(h_exp_rw_renyi[0], c_exp_rw_renyi[0], '*', color='black', markersize=15, zorder=2)\n",
    "ax[1].plot(h_exp_rw_renyi[-1], c_exp_rw_renyi[-1], '.',color='black', markersize=20, zorder=2)\n",
    "    \n",
    "plt.draw()\n",
    "for (i, ax_), x_ in zip(list(enumerate(ax.flatten())), [-.25,-.222]):    \n",
    "    ax_.annotate('('+string.ascii_lowercase[i]+')', (x_, 1.05), xycoords='axes fraction', fontsize=25, weight='bold')\n",
    "        \n",
    "f.tight_layout()\n",
    "# f.savefig('figs-pdf/renyi_complexity_entropy.pdf', dpi=300, bbox_inches='tight')"
   ]
  },
  {
   "cell_type": "markdown",
   "metadata": {},
   "source": [
    "<span style=\"font-family:times; font-weight:bold; font-size:1.8em;\">`ordinal_network`</span><a class=\"anchor\" id=\"chapter7\"></a>"
   ]
  },
  {
   "cell_type": "code",
   "execution_count": 23,
   "metadata": {
    "ExecuteTime": {
     "end_time": "2021-01-12T21:42:27.452267Z",
     "start_time": "2021-01-12T21:42:27.449977Z"
    },
    "code_folding": [
     1
    ],
    "init_cell": true
   },
   "outputs": [],
   "source": [
    "#Rössler system\n",
    "def rossler_equations_with_params(t, y, alpha, beta, gamma):\n",
    "    \"\"\"\n",
    "    Right hand side of Rössler's equations\n",
    "    which are defined as\n",
    "\n",
    "    x' = - y - z\n",
    "    y' = x + ay\n",
    "    z' = b + z(x - c).\n",
    "    \n",
    "    with the prime denoting the derivative of the variable.\n",
    "\n",
    "    Parameters\n",
    "    ----------\n",
    "    t : time.\n",
    "    y : state vector of variables x, y and z.\n",
    "    ----------\n",
    "\n",
    "    Returns the right hand side of Rössler's system \n",
    "    as a list.\n",
    "    \"\"\"\n",
    "#equations' variables\n",
    "    x1, x2, x3 = y\n",
    "\n",
    "#creating f = (x', y', z'): right hand side of Rössler's oscillator.\n",
    "    return [-x2-x3, x1+alpha*x2, beta + x3*(x1-gamma)]"
   ]
  },
  {
   "cell_type": "code",
   "execution_count": null,
   "metadata": {
    "ExecuteTime": {
     "end_time": "2021-01-12T20:01:58.998414Z",
     "start_time": "2021-01-12T20:01:40.168379Z"
    }
   },
   "outputs": [],
   "source": [
    "# # Solving the Rössler system. Results already saved in the 'data' folder.\n",
    "\n",
    "# # solving. 20 seconds to solve.\n",
    "\n",
    "# rossler_curve = scipy.integrate.solve_ivp(rossler_equations_with_params, \n",
    "#                                           t_span = (0, 20000), \n",
    "#                                           y0=[np.random.uniform() for _ in range(3)], \n",
    "#                                           dense_output=True,\n",
    "#                                           args=(.3, 2, 4),\n",
    "#                                           atol=1.0e-8, \n",
    "#                                           rtol=1.0e-6)\n",
    "# #x-coordinate time series\n",
    "# xrossler          = rossler_curve.y[0]\n",
    "# #.2 time sampling\n",
    "# xrossler = rossler_curve.sol(np.arange(0,20000,.2))[0]\n",
    "# np.save('data/xrossler0.3.npy'.format(alpha_), xrossler)"
   ]
  },
  {
   "cell_type": "code",
   "execution_count": 24,
   "metadata": {
    "ExecuteTime": {
     "end_time": "2021-01-12T21:42:27.465604Z",
     "start_time": "2021-01-12T21:42:27.453091Z"
    },
    "code_folding": [
     0,
     39,
     70
    ],
    "init_cell": true
   },
   "outputs": [],
   "source": [
    "def igraph_directed_ordnet(data, dx=3, dy=1, tau_x=1, tau_y=1, normalized=True, overlapping=True, connections=\"all\"):\n",
    "    \"\"\"\n",
    "    Generates the elements (nodes, edges and edge weights) necessary to \n",
    "    obtain an ordinal network from data.\n",
    "    \n",
    "    Parameters\n",
    "    ----------\n",
    "    data        : array object in the format [x_1, x_2, x_3, ..., x_n] \n",
    "                  or [[x_11, x_12, x_13, ..., x_1m], \n",
    "                      [x_21, x_22, x_23, ..., x_2m], ..., \n",
    "                      [x_n1, x_n2, x_n3, ..., x_nm]] (nxm);\n",
    "    dx          : embedding dimension (horizontal axis) (default: 3).\n",
    "    dy          : embedding dimension (vertical axis); must be 1 for time series (default: 1).\n",
    "    tau_x       : embedding delay (horizontal axis) (default: 1).\n",
    "    tau_y       : embedding delay (vertical axis) (default: 1).\n",
    "    normalized  : if True, edge weights represent transition probabilities between permutations.\n",
    "                  If False, edge weights are transition counts.\n",
    "    overlapping : if True, partitions data into overlapping sliding windows (default: True);\n",
    "                  if False, it does not. \n",
    "    directed    : if True, ordinal network links are directed (default: True); if False, edges\n",
    "                  correspond to an undirected network (avoids networks with multiedges).\n",
    "    connections : whether the ordinal network is constructed using \"all\" permutation successions \n",
    "                  in symbolic sequence or only \"horizontal\" or \"vertical\" successions (default: \n",
    "                  \"all\"). ONLY VALID FOR IMAGE DATA. \n",
    "    ----------\n",
    "    Returns a list of arrays containing the nodes, edges and edge weights\n",
    "    corresponding to an ordinal network mapped from data.\n",
    "    \"\"\"\n",
    "    nodes, edges, weights = ordinal_network(data, dx, dy, tau_x, tau_y, normalized, \n",
    "                                            overlapping, True, connections)\n",
    "    \n",
    "    g = igraph.Graph(directed=True)\n",
    "    g.add_vertices(nodes)\n",
    "    g.add_edges(edges)\n",
    "    g.vs[\"label\"]  = nodes\n",
    "    g.es[\"weight\"] = weights\n",
    "    \n",
    "    return g\n",
    "\n",
    "def igplot_black(g, edge_width_scale=20, layout='layout_circle', vertex_font_size=20, box=(400,400), margin=(80, 80, 80, 80), \n",
    "                 vertex_size=50,edge_arrow_size=1, export_file=None, seed=None, vertex_label_color='#969696', vertex_color='#9970ab'):\n",
    "    \"\"\"\n",
    "    Plots a graph with black edges instead of the \n",
    "    ususal procedure used by the igplot function\n",
    "    defined elsewhere.\n",
    "    \n",
    "    Parameters\n",
    "    ----------\n",
    "    ----------\n",
    "    Returns\n",
    "    \n",
    "    \"\"\"\n",
    "    plottedg = igraph.plot(\n",
    "        g,\n",
    "        export_file,\n",
    "        layout=getattr(g,layout)(),\n",
    "        bbox=box,\n",
    "        vertex_label = [s.replace('|','') for s in g.vs['label']],#g.vs['label'], #[s.replace('|','') for s in g.vs['label']],\n",
    "        vertex_label_size=vertex_font_size,\n",
    "        vertex_label_color=vertex_label_color,\n",
    "        margin=margin,\n",
    "        vertex_size=vertex_size,\n",
    "        vertex_color=vertex_color,\n",
    "        edge_curved=True,\n",
    "        edge_color          = list(map(mpl.colors.to_hex, list(map(mpl.cm.get_cmap(name='Greys'),0.4+normalize_array(np.asarray(g.es['weight'])))))),\n",
    "        edge_width=((0.3+edge_width_scale*np.asarray(g.es['weight']))).tolist(),\n",
    "        edge_arrow_size=edge_arrow_size,\n",
    "    )\n",
    "    return(plottedg)\n",
    "\n",
    "def ornament_function(angle=135, omega=9, size=2040, probability=0):\n",
    "    \"\"\"\n",
    "    Periodic ornament defined in \"Discriminating image textures \n",
    "    with multiscale two-dimensional complexity-entropy\n",
    "    causality plane\" by Zunino and Ribeiro (Chaos, Solitons and Fractals, \n",
    "    2016).\n",
    "    \n",
    "    Parameters\n",
    "    ----------\n",
    "    angle      : inclination of the ornament's stripes.\n",
    "    omega      : frequency (number of black stripes > 0).\n",
    "    size       : lattice size (size x size).\n",
    "    probability: probability of permuting pixels in the \n",
    "                 original ornament (e.g. 0.05, 0.25, 0.5).\n",
    "    ----------\n",
    "    Returns a bidimensional np.array (matrix).\n",
    "    \"\"\"\n",
    "    if probability==0:\n",
    "        angle  = np.math.pi*angle/180 - np.math.pi/2\n",
    "        omega  = omega/np.math.pi*2\n",
    "\n",
    "        x      = np.linspace(0, 2*np.math.pi, size)\n",
    "        y      = np.linspace(0, 2*np.math.pi, size)\n",
    "        xx, yy = np.meshgrid(x, y)\n",
    "\n",
    "        z      = np.sin(omega*xx*np.cos(angle) - omega*yy*np.sin(angle))\n",
    "\n",
    "        return z\n",
    "#\n",
    "    else:\n",
    "        angle  = np.math.pi*angle/180 - np.math.pi/2\n",
    "        omega  = omega/np.math.pi*2\n",
    "\n",
    "        x      = np.linspace(0, 2*np.math.pi, size)\n",
    "        y      = np.linspace(0, 2*np.math.pi, size)\n",
    "        xx, yy = np.meshgrid(x, y)\n",
    "        \n",
    "        z      = np.sin(omega*xx*np.cos(angle) - omega*yy*np.sin(angle))\n",
    "        nx, ny = z.shape\n",
    "        z      = z.flatten()\n",
    "\n",
    "        random         = np.random.randint(0,99, size=size*size)\n",
    "        args_to_change = np.argwhere(random<int(probability*100)).flatten()\n",
    "        np.random.shuffle(args_to_change)\n",
    "\n",
    "        for i,j in zip(args_to_change[:-1:2], args_to_change[1::2]):\n",
    "            temp = z[j]\n",
    "            z[j] = z[i]\n",
    "            z[i] = temp\n",
    "\n",
    "        z = z.reshape(nx, ny)\n",
    "        \n",
    "        return z"
   ]
  },
  {
   "cell_type": "markdown",
   "metadata": {},
   "source": [
    "<span style=\"font-family:times; font-weight:bold; font-size:1.4em;\">Fig. 7</span><a class=\"anchor\" id=\"section_fig7\"></a>"
   ]
  },
  {
   "cell_type": "code",
   "execution_count": null,
   "metadata": {
    "ExecuteTime": {
     "end_time": "2021-01-12T20:10:26.649331Z",
     "start_time": "2021-01-12T20:10:24.384595Z"
    },
    "code_folding": [
     40,
     50,
     73
    ]
   },
   "outputs": [],
   "source": [
    "f        = plt.figure(figsize=(24.57, 12.6))\n",
    "spec     = mpl.gridspec.GridSpec(ncols=9, nrows=6, figure=f)\n",
    "\n",
    "subspec  = [mpl.gridspec.GridSpecFromSubplotSpec(2, 6, subplot_spec=spec[0:2,0:3]), \n",
    "            mpl.gridspec.GridSpecFromSubplotSpec(2, 6, subplot_spec=spec[0:2,3:6]), \n",
    "            mpl.gridspec.GridSpecFromSubplotSpec(1, 1, subplot_spec=spec[0:2,6:9]),\n",
    "            mpl.gridspec.GridSpecFromSubplotSpec(1, 1, subplot_spec=spec[2:6,0:3]), \n",
    "            mpl.gridspec.GridSpecFromSubplotSpec(1, 1, subplot_spec=spec[2:6,3:6]), \n",
    "            mpl.gridspec.GridSpecFromSubplotSpec(1, 1, subplot_spec=spec[2:6,6:9])]\n",
    "\n",
    "ax  = [f.add_subplot(subspec[0][0:2,2:5]), f.add_subplot(subspec[1][0:2,2:5])] + [f.add_subplot(subspec[i][0]) for i in range(2,6)]\n",
    "\n",
    "\n",
    "#Rössler series plotting\n",
    "ts_xrossler03 = np.load('data/xrossler0.3.npy')\n",
    "ax[0].plot(range(500), ts_xrossler03[-500:], color='#01665e', label='period 2')\n",
    "ax[0].set_ylabel('$x$-coordinate \\nRössler, $x_t$')\n",
    "ax[0].set_xlabel('Time index, $t$')\n",
    "ax[0].set_ylim(-3.2,6)\n",
    "ax[0].legend(loc=(.05,.82), framealpha=1, handlelength=1)\n",
    "\n",
    "\n",
    "#fBm series plotting\n",
    "fbm_ordnet3 = np.load('data/fbm_series_to_ordnets0.3.npy')\n",
    "ax[1].plot(range(500), fbm_ordnet3[-500:], color='#8c510a', label='$h = 0.3$')\n",
    "ax[1].set_ylabel('fractional Brownian \\nmotion, $x_t$')\n",
    "ax[1].set_xlabel('Time index, $t$')\n",
    "ax[1].legend(handlelength=1)\n",
    "\n",
    "\n",
    "#ornament plotting\n",
    "array2d = normalize_array(ornament_function(size=250, probability=0))\n",
    "ax[2].imshow(array2d, cmap='gist_gray_r', rasterized=True)\n",
    "\n",
    "pos = ax[2].imshow(array2d, cmap='gist_gray_r')\n",
    "f.colorbar(pos, ax=ax[2], aspect=10)\n",
    "ax[2].set_yticks(np.arange(0,251,100))\n",
    "ax[2].set_xticks(np.arange(0,251,100))\n",
    "ax[2].invert_yaxis()\n",
    "\n",
    "\n",
    "#Rossler graph\n",
    "ts_xrossler03 = np.load('data/xrossler0.3.npy')\n",
    "nodes, edges, _ = ordinal_network(ts_xrossler03, dx=16, overlapping=False, directed=False)\n",
    "g_ross = nx.Graph()\n",
    "g_ross.add_nodes_from(nodes)\n",
    "g_ross.add_edges_from(edges)\n",
    "\n",
    "ax[3].axis('off')\n",
    "nx.draw(g_ross, pos=nx.drawing.layout.spectral_layout(g_ross), \n",
    "                ax=ax[3],\n",
    "                node_color='#01665e',\n",
    "                edgecolors='black', \n",
    "                edge_color='#737373',\n",
    "                width=0.5\n",
    "       )\n",
    "\n",
    "\n",
    "#fBm graph\n",
    "nodes, edges, weights = ordinal_network(np.load('data/fbm_series_to_ordnets0.3.npy'))\n",
    "    \n",
    "g = igraph.Graph(directed=True)\n",
    "g.add_vertices(nodes)\n",
    "g.add_edges(edges)\n",
    "g.vs[\"label\"]  = nodes\n",
    "g.es[\"weight\"] = weights\n",
    "\n",
    "igraph.plot(g, 'data/fbm_graph0.3.png',\n",
    "                layout='circle',\n",
    "                box=(400,400),\n",
    "                vertex_label       = [s.replace('|','') for s in g.vs['label']],\n",
    "                vertex_label_size  = 35,\n",
    "                vertex_label_color = 'black',\n",
    "                margin             = [55,135,140,80],\n",
    "                vertex_size        = 100,\n",
    "                vertex_color       = '#8c510a',\n",
    "                edge_curved         = True,\n",
    "                edge_color          = list(map(mpl.colors.to_hex, list(map(mpl.cm.get_cmap(name='Greys'),0.4+normalize_array(np.asarray(g.es['weight'])))))),\n",
    "                edge_width          = (0.3+50*np.asarray(g.es['weight'])).tolist(),\n",
    "               )\n",
    "\n",
    "img_ = mpimg.imread('data/fbm_graph0.3.png')\n",
    "ax[4].axis('off')\n",
    "ax[4].imshow(img_)\n",
    "\n",
    "\n",
    "#ornament graph\n",
    "g0 = igraph_directed_ordnet(ornament_function(probability=0,size=250), dx=2,dy=2)\n",
    "w_ = np.asarray(g0.strength(mode='IN', weights='weight'))\n",
    "w_ = w_/w_.max()\n",
    "\n",
    "igplot_black(g0,\n",
    "             vertex_size=5+50*w_**2,\n",
    "             vertex_font_size=2+18*w_**2,\n",
    "             edge_width_scale=40,\n",
    "#              vertex_color=['#8c510a', '#01665e'],\n",
    "             vertex_color='#969696',\n",
    "             #\n",
    "             vertex_label_color= 'black',\n",
    "             layout='layout_fruchterman_reingold',\n",
    "             edge_arrow_size=.4,\n",
    "             box=(500,500),\n",
    "             #\n",
    "             export_file='data/graph-ornament-0.0.png')\n",
    "\n",
    "img_ = mpimg.imread('data/graph-ornament-0.0.png')\n",
    "ax[5].axis('off')\n",
    "ax[5].imshow(img_)\n",
    "\n",
    "plt.draw()\n",
    "for (i, ax_), tx_ in zip(list(enumerate(ax)), ['']*3+['$d_x = 16$', '$d_x=3$', '$d_x=2$\\n$d_y=2$']):    \n",
    "    if i<3:\n",
    "        #a), b), c)\n",
    "        x_, y_ = ax_.transAxes.inverted().transform(ax_.yaxis.get_label().get_transform().transform(ax_.yaxis.get_label().get_position()))\n",
    "        ax_.annotate('('+string.ascii_lowercase[i]+')', (x_-.038, y_+.6), xycoords='axes fraction', fontsize=30, weight='bold')\n",
    "    else: #embedding dimension\n",
    "        ax_.annotate(tx_, (.5, -.05), va='center', ha='center', xycoords='axes fraction', fontsize=30, weight='bold',\n",
    "                     bbox={'boxstyle':'round', 'fc':'white', 'ec':'#d9d9d9', 'alpha':1})\n",
    "\n",
    "f.tight_layout()\n",
    "# f.savefig('figs-pdf/ordinal_network.pdf', dpi=300, bbox_inches='tight')\n",
    "# f.savefig('figs-pdf/ordinal_network_test.svg', dpi=300, bbox_inches='tight')"
   ]
  },
  {
   "cell_type": "markdown",
   "metadata": {
    "ExecuteTime": {
     "end_time": "2020-08-31T21:58:07.577095Z",
     "start_time": "2020-08-31T21:58:07.573382Z"
    }
   },
   "source": [
    "<span style=\"font-family:times; font-weight:bold; font-size:1.8em;\">`global_node_entropy`</span><a class=\"anchor\" id=\"chapter8\"></a>"
   ]
  },
  {
   "cell_type": "code",
   "execution_count": 25,
   "metadata": {
    "ExecuteTime": {
     "end_time": "2021-01-12T21:42:27.469296Z",
     "start_time": "2021-01-12T21:42:27.466484Z"
    },
    "code_folding": [
     0
    ],
    "init_cell": true
   },
   "outputs": [],
   "source": [
    "def noisy_sawtooth(dx, length=10000, snr=0):\n",
    "    \"\"\"\n",
    "    Generates a periodic ([0,1] interval)\n",
    "    time series in the form of a sawtooth \n",
    "    function.\n",
    "    \n",
    "    Parameters\n",
    "    ----------\n",
    "    dx: embedding dimension.\n",
    "    length: number of data points in the \n",
    "            generated time series. Ideally, \n",
    "            a multiple of dx.\n",
    "    snr: signal to noise ratio.\n",
    "    ----------\n",
    "    Returns a numpy array.\n",
    "    \"\"\"\n",
    "    series = np.arange(dx)/(dx-1)\n",
    "    series = np.tile(series, length//dx)\n",
    "    if snr != 0:\n",
    "        return series + np.random.uniform(-snr, snr, size=len(series))\n",
    "    else:\n",
    "        return series"
   ]
  },
  {
   "cell_type": "code",
   "execution_count": null,
   "metadata": {
    "ExecuteTime": {
     "end_time": "2021-01-12T20:11:00.159309Z",
     "start_time": "2021-01-12T20:11:00.155602Z"
    },
    "code_folding": []
   },
   "outputs": [],
   "source": [
    "# # 3 minutes to run. Data to plot Fig 7c. Already saved in the 'data' folder.\n",
    "\n",
    "# ordnet_noisy_series    = []\n",
    "# ordnetstd_noisy_series = []\n",
    "\n",
    "# for dx_ in [2,3,4,5]:\n",
    "#     pe, gne = [], []\n",
    "#     gnestd, pestd = [], []\n",
    "#     normalization = global_node_entropy(random_ordinal_network(dx=dx_))\n",
    "#     for snr_ in np.arange(0,2.02,0.05).round(decimals=2):\n",
    "#         gne_, pe_ = [], []\n",
    "#         for _ in range(10):\n",
    "#             series = noisy_sawtooth(dx=dx_, length=10000, snr=snr_)\n",
    "#             pe_.append(permutation_entropy(series, dx=dx_, base=2))\n",
    "#             gne_.append(global_node_entropy(series, dx=dx_)/normalization)\n",
    "\n",
    "#         gne.append(np.mean(gne_))\n",
    "#         pe.append(np.mean(pe_))\n",
    "        \n",
    "#         gnestd.append(np.std(gne_))\n",
    "#         pestd.append(np.std(pe_))\n",
    "        \n",
    "#     ordnet_noisy_series.append([pe, gne])\n",
    "#     ordnetstd_noisy_series.append([pestd, gnestd])\n",
    "\n",
    "# np.save('data/ordnet_noisy_series.npy', ordnet_noisy_series)\n",
    "# np.save('data/ordnetstd_noisy_series.npy', ordnetstd_noisy_series)"
   ]
  },
  {
   "cell_type": "code",
   "execution_count": null,
   "metadata": {
    "code_folding": []
   },
   "outputs": [],
   "source": [
    "# # Data to plot Fig 7d\n",
    "\n",
    "# gne22hor_brodatz = []\n",
    "# gne22ver_brodatz = []\n",
    "\n",
    "# for path in sorted( 'path to Brodatz textures' ):    \n",
    "#     image  = mpimg.imread(path)\n",
    "\n",
    "#     gne22hor_brodatz.append(global_node_entropy(image, dx=2, dy=2, connections='horizontal'))\n",
    "#     gne22ver_brodatz.append(global_node_entropy(image, dx=2, dy=2, connections='vertical'))\n",
    "\n",
    "# np.save('data/gne22hor_brodatz.npy', gne22hor_brodatz)\n",
    "# np.save('data/gne22ver_brodatz.npy', gne22ver_brodatz)"
   ]
  },
  {
   "cell_type": "markdown",
   "metadata": {},
   "source": [
    "<span style=\"font-family:times; font-weight:bold; font-size:1.4em;\">Fig. 8</span><a class=\"anchor\" id=\"section_fig8\"></a>"
   ]
  },
  {
   "cell_type": "code",
   "execution_count": 25,
   "metadata": {
    "ExecuteTime": {
     "end_time": "2021-01-12T21:33:32.644366Z",
     "start_time": "2021-01-12T21:33:31.838220Z"
    }
   },
   "outputs": [
    {
     "data": {
      "image/png": "[encoded data removed]",
      "text/plain": [
       "<Figure size 1179.36x907.2 with 4 Axes>"
      ]
     },
     "metadata": {},
     "output_type": "display_data"
    }
   ],
   "source": [
    "f, ax = plt.subplots(nrows=2, ncols=2, figsize=(16.38, 12.6))\n",
    "ax    = ax.flatten()\n",
    "\n",
    "#saw tooth series\n",
    "ax[0].plot(noisy_sawtooth(dx=4, length=16), '-o', markersize=15, color='#969696', markeredgecolor='black', label=r'$\\xi = 0$', zorder=1)\n",
    "ax[0].set_xlabel('Time index, $t$')\n",
    "ax[0].set_ylabel('Time series, $x_t$')\n",
    "ax[0].legend(framealpha=.7, loc=(.03,.75))\n",
    "\n",
    "\n",
    "#\n",
    "ax[2].axis('off')\n",
    "#\n",
    "\n",
    "#permutation entropy and global node entropy\n",
    "ordnet_noisy_series    = np.load('data/ordnet_noisy_series.npy')\n",
    "x_   = np.arange(0,2.02,0.05).round(decimals=2)\n",
    "\n",
    "for entropy_, m_, c_, l_, i in zip(ordnet_noisy_series[2], ['-^', '-o'], ['#bf812d', '#35978f'], [r'Permutation entropy, $H$', r'Global node entropy, $H_{\\rm GN}$'], range(2)):\n",
    "    if i==1:\n",
    "        ax[1].plot(x_, entropy_, m_, markersize=15, color=c_,markeredgecolor='black', label=l_)\n",
    "    else:\n",
    "        ax[1].plot(x_, entropy_, m_, markersize=15, color=c_,markeredgecolor='black', label=l_)\n",
    "ax[1].hlines(1, 0, 2, linestyle='--',linewidth=2)\n",
    "ax[1].set_xlabel(r'Noise amplitude, $\\xi$') \n",
    "ax[1].set_ylabel(r'Entropy')\n",
    "ax[1].annotate('$d_x = 4$', (.895,.335), xycoords='axes fraction', ha='center',va='top', fontsize=21, weight='bold',\n",
    "               bbox={'boxstyle':'round', 'fc':'white', 'ec':'#d9d9d9', 'alpha':1})\n",
    "ax[1].legend()\n",
    "\n",
    "\n",
    "#brodatz analysis\n",
    "brodatz_names  = [s_.split('/')[-1][:-4] for s_ in sorted(glob.glob('data/*.tif'))]\n",
    "\n",
    "#notice the images are not in the 'data' folder. However, they can be easily download from https://multibandtexture.recherche.usherbrooke.ca/normalized_brodatz.html\n",
    "brodatz_gne22h_normalized = np.load('data/gne22hor_brodatz.npy')\n",
    "brodatz_gne22v_normalized = np.load('data/gne22ver_brodatz.npy')\n",
    "\n",
    "\n",
    "ax[3].set_ylabel(r'$S_{\\rm GN}^{\\rm Horizontal}-S_{\\rm GN}^{\\rm Vertical}$', fontsize=25)\n",
    "ax[3].spines['bottom'].set_visible(False)\n",
    "ax[3].tick_params(bottom=False, labelbottom=False)\n",
    "ax[3].plot([0,112],[0,0], '--', color='black',linewidth=3.5, zorder=0)\n",
    "\n",
    "cnt = 0\n",
    "for x_, y_ in zip(range(len(brodatz_gne22h_normalized)), brodatz_gne22h_normalized-brodatz_gne22v_normalized):\n",
    "    if y_>.12:\n",
    "        ax[3].annotate(brodatz_names[cnt], (x_, y_), weight='bold', fontsize=15)    \n",
    "        ax[3].plot(x_, y_, 'o', markeredgecolor='#252525', markersize=15, color='#35978f')\n",
    "        cnt += 1\n",
    "    elif y_<-.13:\n",
    "        ax[3].annotate(brodatz_names[cnt], (x_, y_), fontsize=15, weight='bold')\n",
    "        ax[3].plot(x_, y_, 'o', markeredgecolor='#252525', markersize=15, color='#bf812d')\n",
    "        cnt += 1\n",
    "    else:\n",
    "        ax[3].plot(x_, y_, 'o', markeredgecolor='#252525', markersize=15, color='#969696')\n",
    "        \n",
    "for (i, ax_), (x_, y_) in zip(list(enumerate(ax.flatten())), [(-.22,1.03), (-.2,1.03),(-.22,1.03),(-.2,1.03)]):    \n",
    "    ax_.annotate('('+string.ascii_lowercase[i]+')', (x_, y_), xycoords='axes fraction', fontsize=25, weight='bold')\n",
    "\n",
    "f.tight_layout()\n",
    "# f.savefig('figs-pdf/global_node_entropy.pdf', dpi=300, bbox_inches='tight')\n",
    "# f.savefig('figs-pdf/global_node_entropy_test.svg', dpi=300, bbox_inches='tight')"
   ]
  },
  {
   "cell_type": "markdown",
   "metadata": {},
   "source": [
    "<span style=\"font-family:times; font-weight:bold; font-size:1.8em;\">`missing_links`</span><a class=\"anchor\" id=\"chapter9\"></a>"
   ]
  },
  {
   "cell_type": "markdown",
   "metadata": {},
   "source": [
    "<span style=\"font-family:times; font-weight:bold; font-size:1.4em;\">Fig. 9</span><a class=\"anchor\" id=\"section_fig9\"></a>"
   ]
  },
  {
   "cell_type": "code",
   "execution_count": null,
   "metadata": {
    "ExecuteTime": {
     "end_time": "2021-01-12T21:36:24.163432Z",
     "start_time": "2021-01-12T21:36:24.160534Z"
    },
    "code_folding": []
   },
   "outputs": [],
   "source": [
    "#15 minutes to run. Data to plot Fig 8a. Already daved in the 'data' folder.\n",
    "\n",
    "# flinks_noise = []\n",
    "\n",
    "# for dx_ in [3,4,5,6]:\n",
    "#     temp_size = []\n",
    "#     for size_ in np.unique(np.logspace(1,5,200).astype(int)):\n",
    "#         temp  = []\n",
    "#         for _ in range(10):\n",
    "#             series = np.random.normal(size=size_)\n",
    "#             temp.append(missing_links(series, dx=dx_, links=False))\n",
    "#         temp_size.append(np.mean(temp))\n",
    "#     fstates_noise.append(temp_size)\n",
    "    \n",
    "# np.save('data/flinks_noise.npy', flinks_noise)"
   ]
  },
  {
   "cell_type": "code",
   "execution_count": null,
   "metadata": {
    "ExecuteTime": {
     "end_time": "2020-12-18T15:11:36.854383Z",
     "start_time": "2020-12-18T15:00:43.176015Z"
    },
    "code_folding": []
   },
   "outputs": [],
   "source": [
    "#10 minutes to run. Data to plot Fig 8b. Already daved in the 'data' folder\n",
    "\n",
    "# flinks_logmap = []\n",
    "\n",
    "# for dx_ in [3,4,5,6]:\n",
    "#     temp_size = []\n",
    "#     for size_ in np.unique(np.logspace(1,5,200).astype(int)):\n",
    "#         temp  = []\n",
    "#         for _ in range(10):\n",
    "#             series = logistic_map(n=size_)\n",
    "#             temp.append(missing_links(series, dx=dx_, return_links=False))\n",
    "#         temp_size.append(np.mean(temp))\n",
    "#     flinks_logmap.append(temp_size)\n",
    "    \n",
    "# np.save('data/flinks_logmap.npy', flinks_logmap)"
   ]
  },
  {
   "cell_type": "code",
   "execution_count": 13,
   "metadata": {
    "ExecuteTime": {
     "end_time": "2021-01-12T21:42:30.396892Z",
     "start_time": "2021-01-12T21:42:29.799178Z"
    },
    "scrolled": false
   },
   "outputs": [
    {
     "data": {
      "image/png": "[encoded data removed]",
      "text/plain": [
       "<Figure size 589.68x907.2 with 2 Axes>"
      ]
     },
     "metadata": {},
     "output_type": "display_data"
    }
   ],
   "source": [
    "f, ax = plt.subplots(nrows=2, ncols=1, figsize=(8.19, 12.6))\n",
    "\n",
    "labels = ['$d_x = 3$', '$d_x = 4$', '$d_x = 5$', '$d_x = 6$']\n",
    "greens = ['#c7eae5', '#80cdc1', '#35978f','#01665e']\n",
    "browns = ['#f6e8c3', '#dfc27d', '#bf812d', '#8c510a']\n",
    "\n",
    "\n",
    "#missing links white noise\n",
    "flinks_noise = np.load('data/flinks_noise.npy')\n",
    "ax[0].set_xscale('log')\n",
    "for y_, l_, c_ in zip(flinks_noise, labels, greens):\n",
    "    ax[0].plot(np.logspace(1,5,200).astype(int), y_, '-', linewidth=4, color=c_, label=l_)\n",
    "\n",
    "    \n",
    "ax[0].hlines(0,10,100000, linestyles='--', linewidth=2, color='black')\n",
    "ax[0].set_ylabel(\"Fraction of\\nmissing links, $f$\")\n",
    "ax[0].set_xlabel(\"Time series length, $N$\")\n",
    "ax[0].legend(loc=(.72,.43))\n",
    "ax[0].annotate('white noise', (.847,.88),  va='center', ha='center', xycoords='axes fraction',fontsize=20,\n",
    "               bbox={'boxstyle':'round', 'fc':'#f0f0f0', 'alpha':1})\n",
    "\n",
    "\n",
    "#missing links logistic map\n",
    "flinks_logmap = np.load('data/flinks_logmap.npy')\n",
    "ax[1].set_xscale('log')\n",
    "for y_, l_, c_ in zip(flinks_logmap, labels, browns):\n",
    "    ax[1].plot(np.unique(np.logspace(1,5,200).astype(int)), y_, '-', linewidth=4, color=c_, label=l_)    \n",
    "\n",
    "for i in range(4):\n",
    "    ax[1].hlines(flinks_logmap[i][-1], 10, 100000, linestyle='--', linewidth=2, color='black')\n",
    "    \n",
    "ax[1].set_ylabel(\"Fraction of\\nmissing links, $f$\")\n",
    "ax[1].set_xlabel(\"Time series length, $N$\")\n",
    "ax[1].legend(loc=(.65,.01), framealpha=1)\n",
    "ax[1].annotate('logistic map', (.777,.46),  va='center', ha='center', xycoords='axes fraction',fontsize=20,\n",
    "               bbox={'boxstyle':'round', 'fc':'#f0f0f0', 'alpha':1})\n",
    "\n",
    "\n",
    "for (i, ax_), (x_, y_) in zip(list(enumerate(ax.flatten())), [(-.275,1.03)]*2):    \n",
    "    ax_.annotate('('+string.ascii_lowercase[i]+')', (x_, y_), xycoords='axes fraction', fontsize=25, weight='bold')\n",
    "\n",
    "f.tight_layout()\n",
    "# f.savefig('figs-pdf/missing_links_vert.pdf', dpi=300, bbox_inches='tight')"
   ]
  }
 ],
 "metadata": {
  "kernelspec": {
   "display_name": "Python 3",
   "language": "python",
   "name": "python3"
  },
  "language_info": {
   "codemirror_mode": {
    "name": "ipython",
    "version": 3
   },
   "file_extension": ".py",
   "mimetype": "text/x-python",
   "name": "python",
   "nbconvert_exporter": "python",
   "pygments_lexer": "ipython3",
   "version": "3.7.7"
  }
 },
 "nbformat": 4,
 "nbformat_minor": 4
}
